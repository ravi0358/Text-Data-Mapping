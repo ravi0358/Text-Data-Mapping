{
 "cells": [
  {
   "cell_type": "markdown",
   "metadata": {},
   "source": [
    "Required Packages"
   ]
  },
  {
   "cell_type": "code",
   "execution_count": 1,
   "metadata": {},
   "outputs": [
    {
     "name": "stderr",
     "output_type": "stream",
     "text": [
      "/opt/conda/lib/python3.7/site-packages/fuzzywuzzy/fuzz.py:11: UserWarning: Using slow pure-python SequenceMatcher. Install python-Levenshtein to remove this warning\n",
      "  warnings.warn('Using slow pure-python SequenceMatcher. Install python-Levenshtein to remove this warning')\n",
      "/opt/conda/lib/python3.7/site-packages/snowflake/connector/options.py:44: UserWarning: You have an incompatible version of 'pyarrow' installed, please install a version that adheres to: 'pyarrow<0.18.0,>=0.17.0; extra == \"pandas\"'\n",
      "  warn_incompatible_dep('pyarrow', _installed_pyarrow.version, _expected_version)\n"
     ]
    }
   ],
   "source": [
    "import numpy as np\n",
    "import pandas as pd\n",
    "from fuzzywuzzy import fuzz\n",
    "import math\n",
    "import re\n",
    "from collections import Counter\n",
    "from difflib import SequenceMatcher\n",
    "import unicodedata\n",
    "import time\n",
    "from snowflake_utils import snowflake_utils as sf_utils\n",
    "sf_helper = sf_utils.SnowflakeHelper()\n",
    "sf_engine = sf_helper.get_sqlalchemy_engine()\n",
    "version='v1'"
   ]
  },
  {
   "cell_type": "markdown",
   "metadata": {},
   "source": [
    "SQL DATA Preparation"
   ]
  },
  {
   "cell_type": "code",
   "execution_count": 2,
   "metadata": {},
   "outputs": [],
   "source": [
    "# file = open(\"ent_sqlcode.txt\")\n",
    "# line = file.read()\n",
    "# file.close()"
   ]
  },
  {
   "cell_type": "code",
   "execution_count": 3,
   "metadata": {},
   "outputs": [],
   "source": [
    "# def PreSql(queries):\n",
    "#     start = time.process_time()\n",
    "#     for i in line.strip().split(';'):\n",
    "#         print(sf_helper.execute(i))\n",
    "#         print(time.process_time()-start)\n",
    "        \n",
    "# PreSql(line)    "
   ]
  },
  {
   "cell_type": "markdown",
   "metadata": {},
   "source": [
    "Data Loading from SnowFlake"
   ]
  },
  {
   "cell_type": "code",
   "execution_count": 4,
   "metadata": {},
   "outputs": [],
   "source": [
    "query = \"\"\"\n",
    "select * from  edw_dna_db.wi.sirajmoh_NON_ENT_alt_unmapped \n",
    "where GU_CUST_MKT_SEGMENT_CD = 'COM' and ISO_COUNTRY_CODE = 'USA'\n",
    "\"\"\"\n",
    "query2 = \"\"\"\n",
    "select distinct RIGHT(CONCAT('000000', CAST(DUNSNUMBER AS VARCHAR(16))), 9) as dunsnumber, A.country,\n",
    " B.iso_3_code, city, state, address, company from\n",
    " \"EDW_DNA_DB\".\"WI\".\"HGDATA_DUNS\" A\n",
    " left join\n",
    " edw_dna_db.wi.sirajmoh_country_iso_codes B\n",
    " on A.country = B.country\n",
    "\"\"\"\n",
    "query3 = \"\"\"\n",
    "select distinct DUNSNUMBER from edw_dna_db.wi.hgdata_Tot_ENT_gu_match;\n",
    "\"\"\""
   ]
  },
  {
   "cell_type": "code",
   "execution_count": 5,
   "metadata": {},
   "outputs": [],
   "source": [
    "remove_words = [\"LIMITED\",\"CORP\",\"PRIVATE\",\"PVT\",\"LTD\",\"COMPANY\",\"GMBH\",'LLC',\n",
    "                \"SERVICES\",\"LLP\",\"CORPORATION\",\"LTDA\",\n",
    "               \"INC\",\"CO\",\"PTE\",\"PLC\",\"THE\",\"LIMITED\",'PT','SPA','SRL','ITALIA','PTY']\n",
    "\n",
    "pat = r'\\b(?:{})\\b'.format('|'.join(remove_words))\n",
    "\n",
    "# remove_count= [\"INDIA\",\"ITALIA\",\"AUSTRALIA\",\"NIGERIA\",\"FRANCE\",,\"CANADA\",\"SINGAPORE\",\n",
    "#\"UK\",\"USA\",\"GERMANY\",\"AMERICA\",\"AMERICANS\",\"SAUDI ARABIA\",\"INDONESIA\",'TECHNICAL','SOLUTIONS']"
   ]
  },
  {
   "cell_type": "code",
   "execution_count": 6,
   "metadata": {},
   "outputs": [],
   "source": [
    "def clean_letters(text):\n",
    "    clean_text = unicodedata.normalize('NFKD', text).encode('ascii', 'ignore')\n",
    "    return clean_text\n",
    "def DataPreprocessing(query,query2):\n",
    "    df = sf_helper.get_df(query)\n",
    "    df_cust = sf_helper.get_df(query2) \n",
    "    df.drop_duplicates(subset=['gu_party_id','gu_primary_name'],inplace=True)\n",
    "    df.dropna(subset=['primary_name'],inplace=True)\n",
    "    df_cust.dropna(subset=['company'],inplace=True)\n",
    "    df.fillna('None',inplace=True)\n",
    "    df_cust.fillna('None',inplace=True)\n",
    "    df.rename(columns={\"primary_name\": \"company_name\"},inplace=True)\n",
    "    columns1= ['company_name','line_1_address', 'city_name', 'state_or_province_name','iso_country_code']\n",
    "    for i in columns1:\n",
    "        df[i] = df[i].str.upper()\n",
    "    columns2= ['company', 'address', 'city', 'state','country','iso_3_code']\n",
    "    for i in columns2:\n",
    "        df_cust[i] = df_cust[i].str.upper()\n",
    "    df['company_name'] = df['company_name'].str.replace(pat, ' ')\n",
    "    df_cust['company'] = df_cust['company'].str.replace(pat, ' ')\n",
    "    df['company_name'] = df['company_name'].map(lambda x: re.sub(r'\\W+', ' ', str(x)))\n",
    "    df_cust['company'] = df_cust['company'].map(lambda x: re.sub(r'\\W+', ' ', str(x)))\n",
    "    #Convert white spaces into nulls\n",
    "    df.company_name.replace(r'^\\s*$', np.nan, regex=True,inplace=True)\n",
    "    df_cust.company.replace(r'^\\s*$', np.nan, regex=True,inplace=True)\n",
    "    for i in columns1:\n",
    "        df[i] = df[i].apply(lambda x: clean_letters(str(x))).str.decode(\"utf-8\")\n",
    "    for i in columns2:\n",
    "        df_cust[i] = df_cust[i].apply(lambda x: clean_letters(str(x))).str.decode(\"utf-8\")\n",
    "    df.dropna(subset=['company_name'],inplace=True)\n",
    "    df_cust.dropna(subset=['company'],inplace=True)\n",
    "    return df,df_cust"
   ]
  },
  {
   "cell_type": "code",
   "execution_count": 7,
   "metadata": {},
   "outputs": [],
   "source": [
    "#Step 1\n",
    "df,df_cust = DataPreprocessing(query,query2)"
   ]
  },
  {
   "cell_type": "code",
   "execution_count": 8,
   "metadata": {},
   "outputs": [
    {
     "data": {
      "text/plain": [
       "(1847427, 11)"
      ]
     },
     "execution_count": 8,
     "metadata": {},
     "output_type": "execute_result"
    }
   ],
   "source": [
    "df.shape"
   ]
  },
  {
   "cell_type": "code",
   "execution_count": 9,
   "metadata": {},
   "outputs": [
    {
     "data": {
      "text/html": [
       "<div>\n",
       "<style scoped>\n",
       "    .dataframe tbody tr th:only-of-type {\n",
       "        vertical-align: middle;\n",
       "    }\n",
       "\n",
       "    .dataframe tbody tr th {\n",
       "        vertical-align: top;\n",
       "    }\n",
       "\n",
       "    .dataframe thead th {\n",
       "        text-align: right;\n",
       "    }\n",
       "</style>\n",
       "<table border=\"1\" class=\"dataframe\">\n",
       "  <thead>\n",
       "    <tr style=\"text-align: right;\">\n",
       "      <th></th>\n",
       "      <th>gu_party_id</th>\n",
       "      <th>gu_primary_name</th>\n",
       "      <th>duns_number</th>\n",
       "      <th>gu_cust_mkt_segment_cd</th>\n",
       "      <th>alt_dunsnumber</th>\n",
       "      <th>company_name</th>\n",
       "      <th>branch_level</th>\n",
       "      <th>iso_country_code</th>\n",
       "      <th>line_1_address</th>\n",
       "      <th>city_name</th>\n",
       "      <th>state_or_province_name</th>\n",
       "    </tr>\n",
       "  </thead>\n",
       "  <tbody>\n",
       "    <tr>\n",
       "      <th>0</th>\n",
       "      <td>348743600</td>\n",
       "      <td>FARM FINANCIAL HOLDINGS LLC</td>\n",
       "      <td>-999</td>\n",
       "      <td>COM</td>\n",
       "      <td>-999</td>\n",
       "      <td>FARM FINANCIAL HOLDINGS</td>\n",
       "      <td>BR</td>\n",
       "      <td>USA</td>\n",
       "      <td>1033 DEMONBREUN ST</td>\n",
       "      <td>NASHVILLE</td>\n",
       "      <td>TN</td>\n",
       "    </tr>\n",
       "    <tr>\n",
       "      <th>1</th>\n",
       "      <td>150253613</td>\n",
       "      <td>HORIZON COMPUTER SERVICES</td>\n",
       "      <td>807276253</td>\n",
       "      <td>COM</td>\n",
       "      <td>807276253</td>\n",
       "      <td>HORIZON COMPUTER</td>\n",
       "      <td>BR</td>\n",
       "      <td>USA</td>\n",
       "      <td>16301 RABON CHAPEL RD</td>\n",
       "      <td>MONTGOMERY</td>\n",
       "      <td>TX</td>\n",
       "    </tr>\n",
       "    <tr>\n",
       "      <th>2</th>\n",
       "      <td>7571825</td>\n",
       "      <td>WORLD HQ LTD</td>\n",
       "      <td>-999</td>\n",
       "      <td>COM</td>\n",
       "      <td>-999</td>\n",
       "      <td>WORLD HQ</td>\n",
       "      <td>BR</td>\n",
       "      <td>USA</td>\n",
       "      <td>200 INTERNATIONAL CIR</td>\n",
       "      <td>COCKEYSVILLE</td>\n",
       "      <td>MD</td>\n",
       "    </tr>\n",
       "    <tr>\n",
       "      <th>3</th>\n",
       "      <td>37956855</td>\n",
       "      <td>TOTAL TECHNOLOGY INTEGRATION</td>\n",
       "      <td>147076975</td>\n",
       "      <td>COM</td>\n",
       "      <td>147076975</td>\n",
       "      <td>TOTAL TECHNOLOGY INTEGRATION</td>\n",
       "      <td>HQ</td>\n",
       "      <td>USA</td>\n",
       "      <td>109 GEORGIAN DR</td>\n",
       "      <td>BUTLER</td>\n",
       "      <td>PA</td>\n",
       "    </tr>\n",
       "    <tr>\n",
       "      <th>4</th>\n",
       "      <td>303061366</td>\n",
       "      <td>PAUL NUNCHUCK AND RONNIE KELLY</td>\n",
       "      <td>-999</td>\n",
       "      <td>COM</td>\n",
       "      <td>-999</td>\n",
       "      <td>PAUL NUNCHUCK AND RONNIE KELLY</td>\n",
       "      <td>BR</td>\n",
       "      <td>USA</td>\n",
       "      <td>PAUL NUNCHUCK</td>\n",
       "      <td>JACKSONVILLE</td>\n",
       "      <td>FL</td>\n",
       "    </tr>\n",
       "  </tbody>\n",
       "</table>\n",
       "</div>"
      ],
      "text/plain": [
       "   gu_party_id                 gu_primary_name duns_number  \\\n",
       "0    348743600     FARM FINANCIAL HOLDINGS LLC        -999   \n",
       "1    150253613       HORIZON COMPUTER SERVICES   807276253   \n",
       "2      7571825                    WORLD HQ LTD        -999   \n",
       "3     37956855    TOTAL TECHNOLOGY INTEGRATION   147076975   \n",
       "4    303061366  PAUL NUNCHUCK AND RONNIE KELLY        -999   \n",
       "\n",
       "  gu_cust_mkt_segment_cd alt_dunsnumber                    company_name  \\\n",
       "0                    COM           -999        FARM FINANCIAL HOLDINGS    \n",
       "1                    COM      807276253               HORIZON COMPUTER    \n",
       "2                    COM           -999                       WORLD HQ    \n",
       "3                    COM      147076975    TOTAL TECHNOLOGY INTEGRATION   \n",
       "4                    COM           -999  PAUL NUNCHUCK AND RONNIE KELLY   \n",
       "\n",
       "  branch_level iso_country_code         line_1_address     city_name  \\\n",
       "0           BR              USA     1033 DEMONBREUN ST     NASHVILLE   \n",
       "1           BR              USA  16301 RABON CHAPEL RD    MONTGOMERY   \n",
       "2           BR              USA  200 INTERNATIONAL CIR  COCKEYSVILLE   \n",
       "3           HQ              USA        109 GEORGIAN DR        BUTLER   \n",
       "4           BR              USA          PAUL NUNCHUCK  JACKSONVILLE   \n",
       "\n",
       "  state_or_province_name  \n",
       "0                     TN  \n",
       "1                     TX  \n",
       "2                     MD  \n",
       "3                     PA  \n",
       "4                     FL  "
      ]
     },
     "execution_count": 9,
     "metadata": {},
     "output_type": "execute_result"
    }
   ],
   "source": [
    "df.head()"
   ]
  },
  {
   "cell_type": "code",
   "execution_count": 10,
   "metadata": {},
   "outputs": [
    {
     "data": {
      "text/plain": [
       "1847425"
      ]
     },
     "execution_count": 10,
     "metadata": {},
     "output_type": "execute_result"
    }
   ],
   "source": [
    "df.gu_party_id.nunique()"
   ]
  },
  {
   "cell_type": "code",
   "execution_count": 11,
   "metadata": {},
   "outputs": [],
   "source": [
    "df_duns_mapped_ENT = sf_helper.get_df(query3)"
   ]
  },
  {
   "cell_type": "code",
   "execution_count": 12,
   "metadata": {},
   "outputs": [
    {
     "data": {
      "text/plain": [
       "(91966, 1)"
      ]
     },
     "execution_count": 12,
     "metadata": {},
     "output_type": "execute_result"
    }
   ],
   "source": [
    "df_duns_mapped_ENT.shape"
   ]
  },
  {
   "cell_type": "code",
   "execution_count": 13,
   "metadata": {},
   "outputs": [],
   "source": [
    "df_duns_mapped_ENT['dunsnumber'] = df_duns_mapped_ENT['dunsnumber'].astype(str)"
   ]
  },
  {
   "cell_type": "code",
   "execution_count": 14,
   "metadata": {},
   "outputs": [
    {
     "data": {
      "text/plain": [
       "(91966, 1)"
      ]
     },
     "execution_count": 14,
     "metadata": {},
     "output_type": "execute_result"
    }
   ],
   "source": [
    "df_duns_mapped_ENT.shape"
   ]
  },
  {
   "cell_type": "code",
   "execution_count": 15,
   "metadata": {},
   "outputs": [
    {
     "data": {
      "text/plain": [
       "(2417355, 7)"
      ]
     },
     "execution_count": 15,
     "metadata": {},
     "output_type": "execute_result"
    }
   ],
   "source": [
    "df_cust.shape"
   ]
  },
  {
   "cell_type": "code",
   "execution_count": 16,
   "metadata": {},
   "outputs": [
    {
     "data": {
      "text/plain": [
       "dunsnumber    object\n",
       "country       object\n",
       "iso_3_code    object\n",
       "city          object\n",
       "state         object\n",
       "address       object\n",
       "company       object\n",
       "dtype: object"
      ]
     },
     "execution_count": 16,
     "metadata": {},
     "output_type": "execute_result"
    }
   ],
   "source": [
    "df_cust.dtypes"
   ]
  },
  {
   "cell_type": "code",
   "execution_count": 17,
   "metadata": {},
   "outputs": [],
   "source": [
    "duns_ENTmap = df_duns_mapped_ENT.dunsnumber.tolist()"
   ]
  },
  {
   "cell_type": "code",
   "execution_count": 18,
   "metadata": {},
   "outputs": [],
   "source": [
    "df_cust= df_cust[~df_cust.dunsnumber.isin(duns_ENTmap)]"
   ]
  },
  {
   "cell_type": "code",
   "execution_count": 19,
   "metadata": {},
   "outputs": [
    {
     "data": {
      "text/plain": [
       "(2348872, 7)"
      ]
     },
     "execution_count": 19,
     "metadata": {},
     "output_type": "execute_result"
    }
   ],
   "source": [
    "df_cust.shape"
   ]
  },
  {
   "cell_type": "code",
   "execution_count": 20,
   "metadata": {},
   "outputs": [
    {
     "name": "stderr",
     "output_type": "stream",
     "text": [
      "/opt/conda/lib/python3.7/site-packages/ipykernel_launcher.py:2: DeprecationWarning: Using or importing the ABCs from 'collections' instead of from 'collections.abc' is deprecated since Python 3.3,and in 3.9 it will stop working\n",
      "  \n"
     ]
    }
   ],
   "source": [
    "import collections\n",
    "class OrderedSet(collections.Set):\n",
    "    def __init__(self, iterable=()):\n",
    "        self.d = collections.OrderedDict.fromkeys(iterable)\n",
    "\n",
    "    def __len__(self):\n",
    "        return len(self.d)\n",
    "\n",
    "    def __contains__(self, element):\n",
    "        return element in self.d\n",
    "\n",
    "    def __iter__(self):\n",
    "        return iter(self.d)"
   ]
  },
  {
   "cell_type": "code",
   "execution_count": 21,
   "metadata": {},
   "outputs": [],
   "source": [
    "WORD = re.compile(r\"\\w+\")\n",
    "\n",
    "def text_to_vector(text):\n",
    "    words = WORD.findall(text.upper())\n",
    "    return Counter(words)\n",
    "\n",
    "def get_cosine(vec1, vec2):\n",
    "    vec1 = text_to_vector(vec1)\n",
    "    vec2 = text_to_vector(vec2)\n",
    "    intersection = set(vec1.keys()) & set(vec2.keys())\n",
    "    numerator = sum([vec1[x] * vec2[x] for x in intersection])\n",
    "    sum1 = sum([vec1[x] ** 2 for x in list(vec1.keys())])\n",
    "    sum2 = sum([vec2[x] ** 2 for x in list(vec2.keys())])\n",
    "    denominator = math.sqrt(sum1) * math.sqrt(sum2)\n",
    "    if not denominator:\n",
    "        return 0.0\n",
    "    else:\n",
    "        return float(numerator) / denominator\n",
    "\n",
    "\n",
    "def fuzzy(s1, s2):\n",
    "    intersection = set(s1.keys()) & set(s2.keys())\n",
    "    a= ' '.join(list(OrderedSet(s1.keys()) - OrderedSet(intersection)))\n",
    "    b= ' '.join(list(OrderedSet(s2.keys()) - OrderedSet(intersection)))\n",
    "    #print(intersection,'-' ,s1.keys(),'-', a,'-', s2.keys(),'-', b)\n",
    "    if len(a)==0 or len(b)==0:\n",
    "        return 100\n",
    "    else:\n",
    "        return fuzz.ratio(a, b)\n",
    "\n",
    "def sim_metric(df, col1, col2):\n",
    "    return SequenceMatcher(None, df[col1], df[col2]).ratio()\n",
    "\n",
    "def minEdit(x1,x2):\n",
    "    r= (fuzzy(text_to_vector(x1), text_to_vector(x2)))\n",
    "    return r"
   ]
  },
  {
   "cell_type": "markdown",
   "metadata": {},
   "source": [
    "1st Iteration"
   ]
  },
  {
   "cell_type": "code",
   "execution_count": 22,
   "metadata": {},
   "outputs": [],
   "source": [
    "def FirstIteration(df,df_cust):\n",
    "    df_first = pd.merge(df,df_cust,how='inner',\n",
    "                    left_on=['company_name', 'city_name', 'state_or_province_name','iso_country_code'],\n",
    "                 right_on=['company', 'city', 'state','iso_3_code'])\n",
    "    df_first = df_first.drop_duplicates(subset=['gu_party_id','gu_cust_mkt_segment_cd'], keep='first')\n",
    "    duns_fullymap = df_first.gu_party_id.tolist()\n",
    "    df_1= df[~df.gu_party_id.isin(duns_fullymap)]\n",
    "    df_first.to_csv('US_Commercial_First_Iteration_'+version+'.csv')\n",
    "    return df_1,df_first"
   ]
  },
  {
   "cell_type": "code",
   "execution_count": 23,
   "metadata": {},
   "outputs": [],
   "source": [
    "df_1,df_first = FirstIteration(df,df_cust)"
   ]
  },
  {
   "cell_type": "code",
   "execution_count": 24,
   "metadata": {},
   "outputs": [
    {
     "data": {
      "text/plain": [
       "(33927, 18)"
      ]
     },
     "execution_count": 24,
     "metadata": {},
     "output_type": "execute_result"
    }
   ],
   "source": [
    "df_first.shape"
   ]
  },
  {
   "cell_type": "code",
   "execution_count": 25,
   "metadata": {},
   "outputs": [
    {
     "data": {
      "text/html": [
       "<div>\n",
       "<style scoped>\n",
       "    .dataframe tbody tr th:only-of-type {\n",
       "        vertical-align: middle;\n",
       "    }\n",
       "\n",
       "    .dataframe tbody tr th {\n",
       "        vertical-align: top;\n",
       "    }\n",
       "\n",
       "    .dataframe thead th {\n",
       "        text-align: right;\n",
       "    }\n",
       "</style>\n",
       "<table border=\"1\" class=\"dataframe\">\n",
       "  <thead>\n",
       "    <tr style=\"text-align: right;\">\n",
       "      <th></th>\n",
       "      <th>gu_party_id</th>\n",
       "      <th>gu_primary_name</th>\n",
       "      <th>duns_number</th>\n",
       "      <th>gu_cust_mkt_segment_cd</th>\n",
       "      <th>alt_dunsnumber</th>\n",
       "      <th>company_name</th>\n",
       "      <th>branch_level</th>\n",
       "      <th>iso_country_code</th>\n",
       "      <th>line_1_address</th>\n",
       "      <th>city_name</th>\n",
       "      <th>state_or_province_name</th>\n",
       "      <th>dunsnumber</th>\n",
       "      <th>country</th>\n",
       "      <th>iso_3_code</th>\n",
       "      <th>city</th>\n",
       "      <th>state</th>\n",
       "      <th>address</th>\n",
       "      <th>company</th>\n",
       "    </tr>\n",
       "  </thead>\n",
       "  <tbody>\n",
       "    <tr>\n",
       "      <th>0</th>\n",
       "      <td>269682339</td>\n",
       "      <td>WARWICK PARTNERS</td>\n",
       "      <td>-999</td>\n",
       "      <td>COM</td>\n",
       "      <td>-999</td>\n",
       "      <td>WARWICK PARTNERS</td>\n",
       "      <td>BR</td>\n",
       "      <td>USA</td>\n",
       "      <td>4444 CARTER CREEK PKWY</td>\n",
       "      <td>BRYAN</td>\n",
       "      <td>TX</td>\n",
       "      <td>019224515</td>\n",
       "      <td>USA</td>\n",
       "      <td>USA</td>\n",
       "      <td>BRYAN</td>\n",
       "      <td>TX</td>\n",
       "      <td>4444 CARTER CREEK PKWY # 109</td>\n",
       "      <td>WARWICK PARTNERS</td>\n",
       "    </tr>\n",
       "    <tr>\n",
       "      <th>1</th>\n",
       "      <td>251365967</td>\n",
       "      <td>DATAVIDEO CORPORATION</td>\n",
       "      <td>-999</td>\n",
       "      <td>COM</td>\n",
       "      <td>-999</td>\n",
       "      <td>DATAVIDEO</td>\n",
       "      <td>HQ</td>\n",
       "      <td>USA</td>\n",
       "      <td>7048 ELMER AVE</td>\n",
       "      <td>WHITTIER</td>\n",
       "      <td>CA</td>\n",
       "      <td>830612821</td>\n",
       "      <td>USA</td>\n",
       "      <td>USA</td>\n",
       "      <td>WHITTIER</td>\n",
       "      <td>CA</td>\n",
       "      <td>7048 ELMER AVE</td>\n",
       "      <td>DATAVIDEO</td>\n",
       "    </tr>\n",
       "    <tr>\n",
       "      <th>2</th>\n",
       "      <td>255524598</td>\n",
       "      <td>VAN POOL TRANSPORTATION COMPANY</td>\n",
       "      <td>-999</td>\n",
       "      <td>COM</td>\n",
       "      <td>-999</td>\n",
       "      <td>VAN POOL TRANSPORTATION</td>\n",
       "      <td>BR</td>\n",
       "      <td>USA</td>\n",
       "      <td>18 COTTAGE AVE</td>\n",
       "      <td>WILBRAHAM</td>\n",
       "      <td>MA</td>\n",
       "      <td>969098318</td>\n",
       "      <td>USA</td>\n",
       "      <td>USA</td>\n",
       "      <td>WILBRAHAM</td>\n",
       "      <td>MA</td>\n",
       "      <td>70 POST OFFICE PARK # 700</td>\n",
       "      <td>VAN POOL TRANSPORTATION</td>\n",
       "    </tr>\n",
       "    <tr>\n",
       "      <th>3</th>\n",
       "      <td>33859033</td>\n",
       "      <td>CAPSTONE GROUP LLC</td>\n",
       "      <td>018925763</td>\n",
       "      <td>COM</td>\n",
       "      <td>-999</td>\n",
       "      <td>CAPSTONE EQUITIES</td>\n",
       "      <td>BR</td>\n",
       "      <td>USA</td>\n",
       "      <td>14 WALL ST</td>\n",
       "      <td>NEW YORK</td>\n",
       "      <td>NY</td>\n",
       "      <td>830665308</td>\n",
       "      <td>USA</td>\n",
       "      <td>USA</td>\n",
       "      <td>NEW YORK</td>\n",
       "      <td>NY</td>\n",
       "      <td>545 5TH AVE RM 1209</td>\n",
       "      <td>CAPSTONE EQUITIES</td>\n",
       "    </tr>\n",
       "    <tr>\n",
       "      <th>4</th>\n",
       "      <td>323188966</td>\n",
       "      <td>RECYCLE TRACK SYSTEMS INC</td>\n",
       "      <td>-999</td>\n",
       "      <td>COM</td>\n",
       "      <td>-999</td>\n",
       "      <td>RECYCLE TRACK SYSTEMS</td>\n",
       "      <td>BR</td>\n",
       "      <td>USA</td>\n",
       "      <td>435 HUDSON ST</td>\n",
       "      <td>NEW YORK</td>\n",
       "      <td>NY</td>\n",
       "      <td>080049186</td>\n",
       "      <td>USA</td>\n",
       "      <td>USA</td>\n",
       "      <td>NEW YORK</td>\n",
       "      <td>NY</td>\n",
       "      <td>435 HUDSON ST RM 404</td>\n",
       "      <td>RECYCLE TRACK SYSTEMS</td>\n",
       "    </tr>\n",
       "  </tbody>\n",
       "</table>\n",
       "</div>"
      ],
      "text/plain": [
       "   gu_party_id                  gu_primary_name duns_number  \\\n",
       "0    269682339                 WARWICK PARTNERS        -999   \n",
       "1    251365967            DATAVIDEO CORPORATION        -999   \n",
       "2    255524598  VAN POOL TRANSPORTATION COMPANY        -999   \n",
       "3     33859033               CAPSTONE GROUP LLC   018925763   \n",
       "4    323188966        RECYCLE TRACK SYSTEMS INC        -999   \n",
       "\n",
       "  gu_cust_mkt_segment_cd alt_dunsnumber              company_name  \\\n",
       "0                    COM           -999          WARWICK PARTNERS   \n",
       "1                    COM           -999                DATAVIDEO    \n",
       "2                    COM           -999  VAN POOL TRANSPORTATION    \n",
       "3                    COM           -999         CAPSTONE EQUITIES   \n",
       "4                    COM           -999    RECYCLE TRACK SYSTEMS    \n",
       "\n",
       "  branch_level iso_country_code          line_1_address  city_name  \\\n",
       "0           BR              USA  4444 CARTER CREEK PKWY      BRYAN   \n",
       "1           HQ              USA          7048 ELMER AVE   WHITTIER   \n",
       "2           BR              USA          18 COTTAGE AVE  WILBRAHAM   \n",
       "3           BR              USA              14 WALL ST   NEW YORK   \n",
       "4           BR              USA           435 HUDSON ST   NEW YORK   \n",
       "\n",
       "  state_or_province_name dunsnumber country iso_3_code       city state  \\\n",
       "0                     TX  019224515     USA        USA      BRYAN    TX   \n",
       "1                     CA  830612821     USA        USA   WHITTIER    CA   \n",
       "2                     MA  969098318     USA        USA  WILBRAHAM    MA   \n",
       "3                     NY  830665308     USA        USA   NEW YORK    NY   \n",
       "4                     NY  080049186     USA        USA   NEW YORK    NY   \n",
       "\n",
       "                        address                   company  \n",
       "0  4444 CARTER CREEK PKWY # 109          WARWICK PARTNERS  \n",
       "1                7048 ELMER AVE                DATAVIDEO   \n",
       "2     70 POST OFFICE PARK # 700  VAN POOL TRANSPORTATION   \n",
       "3           545 5TH AVE RM 1209         CAPSTONE EQUITIES  \n",
       "4          435 HUDSON ST RM 404    RECYCLE TRACK SYSTEMS   "
      ]
     },
     "execution_count": 25,
     "metadata": {},
     "output_type": "execute_result"
    }
   ],
   "source": [
    "df_first.head()"
   ]
  },
  {
   "cell_type": "code",
   "execution_count": 26,
   "metadata": {},
   "outputs": [],
   "source": [
    "def SecondIteration(df_1,df_cust):\n",
    "    df_second = pd.merge(df_1,df_cust,how='inner',\n",
    "                     left_on=['company_name','state_or_province_name','iso_country_code'],\n",
    "                     right_on=['company','state','iso_3_code'])\n",
    "    df_second = df_second.drop_duplicates(subset=['gu_party_id'], keep='first')   \n",
    "    second_duns = df_second['gu_party_id'].unique().tolist()\n",
    "    df_second.to_csv('US_Commercial_Second_Iteration_'+version+'.csv')\n",
    "    df_2= df_1[~df_1.gu_party_id.isin(second_duns)]\n",
    "    return df_2,df_second"
   ]
  },
  {
   "cell_type": "code",
   "execution_count": 27,
   "metadata": {},
   "outputs": [],
   "source": [
    "df_2,df_second = SecondIteration(df_1,df_cust)"
   ]
  },
  {
   "cell_type": "code",
   "execution_count": 28,
   "metadata": {},
   "outputs": [
    {
     "data": {
      "text/plain": [
       "(22646, 18)"
      ]
     },
     "execution_count": 28,
     "metadata": {},
     "output_type": "execute_result"
    }
   ],
   "source": [
    "df_second.shape"
   ]
  },
  {
   "cell_type": "code",
   "execution_count": 29,
   "metadata": {},
   "outputs": [],
   "source": [
    "def ThirdIteration(df_2,df_cust):\n",
    "    df_third =  pd.merge(df_2,df_cust,how='inner',\n",
    "                      left_on=['company_name','iso_country_code'],\n",
    "                     right_on=['company','iso_3_code'])\n",
    "    df_third['city_cosine'] = df_third.apply(lambda x: get_cosine(x['city_name'],x['city']), axis=1)\n",
    "    df_third['city_Fuzzy'] = df_third.apply(lambda x:minEdit(x['city_name'], x['city']), axis=1)\n",
    "    df_third = df_third[['gu_party_id','gu_primary_name', 'duns_number','gu_cust_mkt_segment_cd','alt_dunsnumber','branch_level',\n",
    "                     'dunsnumber','iso_country_code','iso_3_code','country','company','company_name',\n",
    "                     'state','state_or_province_name','address','line_1_address',\n",
    "                     'city','city_name','city_cosine','city_Fuzzy']]\n",
    "    df_third = df_third[(df_third['city']!='NONE')&(df_third['city_name']!='NONE')]\n",
    "    df_third_40 = df_third[(df_third['city_cosine']>0.7)|\n",
    "                       (df_third['city_Fuzzy']>70)|\n",
    "                       ((df_third['city_cosine']>0.6)&(df_third['city_Fuzzy']>60))]\n",
    "    df_third_40['city_avg']= ((df_third_40['city_cosine']*100) + df_third_40['city_Fuzzy'])/2\n",
    "    df_third_40 = df_third_40[df_third_40.groupby(['gu_party_id'])['city_avg'].transform(max) == df_third_40['city_avg']]\n",
    "    df_third_40.drop_duplicates(subset=['gu_party_id','city_avg'],inplace=True)\n",
    "    del df_third_40['city_avg']\n",
    "    df_third_40.to_csv('US_Commercial_Third_Iteration_'+version+'.csv')\n",
    "    third_duns = df_third_40['gu_party_id'].unique().tolist()\n",
    "    df_3= df_2[~df_2.gu_party_id.isin(third_duns)]\n",
    "    return df_3,df_third_40"
   ]
  },
  {
   "cell_type": "code",
   "execution_count": 30,
   "metadata": {},
   "outputs": [
    {
     "name": "stderr",
     "output_type": "stream",
     "text": [
      "/opt/conda/lib/python3.7/site-packages/ipykernel_launcher.py:15: SettingWithCopyWarning: \n",
      "A value is trying to be set on a copy of a slice from a DataFrame.\n",
      "Try using .loc[row_indexer,col_indexer] = value instead\n",
      "\n",
      "See the caveats in the documentation: https://pandas.pydata.org/pandas-docs/stable/user_guide/indexing.html#returning-a-view-versus-a-copy\n",
      "  from ipykernel import kernelapp as app\n"
     ]
    }
   ],
   "source": [
    "df_3,df_third = ThirdIteration(df_2,df_cust)"
   ]
  },
  {
   "cell_type": "code",
   "execution_count": 31,
   "metadata": {},
   "outputs": [
    {
     "data": {
      "text/plain": [
       "(1464, 20)"
      ]
     },
     "execution_count": 31,
     "metadata": {},
     "output_type": "execute_result"
    }
   ],
   "source": [
    "df_third.shape"
   ]
  },
  {
   "cell_type": "code",
   "execution_count": 32,
   "metadata": {},
   "outputs": [
    {
     "data": {
      "text/plain": [
       "((1789390, 11), (2348872, 7))"
      ]
     },
     "execution_count": 32,
     "metadata": {},
     "output_type": "execute_result"
    }
   ],
   "source": [
    "df_3.shape,df_cust.shape"
   ]
  },
  {
   "cell_type": "markdown",
   "metadata": {},
   "source": [
    "4th iteration"
   ]
  },
  {
   "cell_type": "code",
   "execution_count": 33,
   "metadata": {},
   "outputs": [
    {
     "name": "stderr",
     "output_type": "stream",
     "text": [
      "/opt/conda/lib/python3.7/site-packages/ipykernel_launcher.py:1: SettingWithCopyWarning: \n",
      "A value is trying to be set on a copy of a slice from a DataFrame\n",
      "\n",
      "See the caveats in the documentation: https://pandas.pydata.org/pandas-docs/stable/user_guide/indexing.html#returning-a-view-versus-a-copy\n",
      "  \"\"\"Entry point for launching an IPython kernel.\n"
     ]
    }
   ],
   "source": [
    "df_3.drop_duplicates(subset=['gu_party_id','company_name','gu_cust_mkt_segment_cd'],inplace=True)\n",
    "del df_3['line_1_address']\n",
    "del df_3['gu_cust_mkt_segment_cd']\n",
    "del df_cust['address']"
   ]
  },
  {
   "cell_type": "code",
   "execution_count": 34,
   "metadata": {},
   "outputs": [
    {
     "data": {
      "text/plain": [
       "(1789389, 9)"
      ]
     },
     "execution_count": 34,
     "metadata": {},
     "output_type": "execute_result"
    }
   ],
   "source": [
    "df_3.shape"
   ]
  },
  {
   "cell_type": "code",
   "execution_count": 35,
   "metadata": {},
   "outputs": [],
   "source": [
    "df_3_sample= df_3[300000:400000]"
   ]
  },
  {
   "cell_type": "code",
   "execution_count": 36,
   "metadata": {},
   "outputs": [],
   "source": [
    "df_fourth =  pd.merge(df_3_sample,df_cust,how='inner',\n",
    "                      left_on=['state_or_province_name','city_name','iso_country_code'],\n",
    "                      right_on=['state','city','iso_3_code'])"
   ]
  },
  {
   "cell_type": "code",
   "execution_count": 37,
   "metadata": {},
   "outputs": [
    {
     "data": {
      "text/html": [
       "<div>\n",
       "<style scoped>\n",
       "    .dataframe tbody tr th:only-of-type {\n",
       "        vertical-align: middle;\n",
       "    }\n",
       "\n",
       "    .dataframe tbody tr th {\n",
       "        vertical-align: top;\n",
       "    }\n",
       "\n",
       "    .dataframe thead th {\n",
       "        text-align: right;\n",
       "    }\n",
       "</style>\n",
       "<table border=\"1\" class=\"dataframe\">\n",
       "  <thead>\n",
       "    <tr style=\"text-align: right;\">\n",
       "      <th></th>\n",
       "      <th>gu_party_id</th>\n",
       "      <th>gu_primary_name</th>\n",
       "      <th>duns_number</th>\n",
       "      <th>alt_dunsnumber</th>\n",
       "      <th>company_name</th>\n",
       "      <th>branch_level</th>\n",
       "      <th>iso_country_code</th>\n",
       "      <th>city_name</th>\n",
       "      <th>state_or_province_name</th>\n",
       "      <th>dunsnumber</th>\n",
       "      <th>country</th>\n",
       "      <th>iso_3_code</th>\n",
       "      <th>city</th>\n",
       "      <th>state</th>\n",
       "      <th>company</th>\n",
       "    </tr>\n",
       "  </thead>\n",
       "  <tbody>\n",
       "    <tr>\n",
       "      <th>0</th>\n",
       "      <td>83318249</td>\n",
       "      <td>SPACE INTERNATIONAL LLC</td>\n",
       "      <td>789889685</td>\n",
       "      <td>789889685</td>\n",
       "      <td>SPACE INTERNATIONAL</td>\n",
       "      <td>BR</td>\n",
       "      <td>USA</td>\n",
       "      <td>MIAMI</td>\n",
       "      <td>FL</td>\n",
       "      <td>791961001</td>\n",
       "      <td>USA</td>\n",
       "      <td>USA</td>\n",
       "      <td>MIAMI</td>\n",
       "      <td>FL</td>\n",
       "      <td>CAPSTONE GROUP</td>\n",
       "    </tr>\n",
       "    <tr>\n",
       "      <th>1</th>\n",
       "      <td>83318249</td>\n",
       "      <td>SPACE INTERNATIONAL LLC</td>\n",
       "      <td>789889685</td>\n",
       "      <td>789889685</td>\n",
       "      <td>SPACE INTERNATIONAL</td>\n",
       "      <td>BR</td>\n",
       "      <td>USA</td>\n",
       "      <td>MIAMI</td>\n",
       "      <td>FL</td>\n",
       "      <td>831202028</td>\n",
       "      <td>USA</td>\n",
       "      <td>USA</td>\n",
       "      <td>MIAMI</td>\n",
       "      <td>FL</td>\n",
       "      <td>GLOBAL MIND USA</td>\n",
       "    </tr>\n",
       "    <tr>\n",
       "      <th>2</th>\n",
       "      <td>83318249</td>\n",
       "      <td>SPACE INTERNATIONAL LLC</td>\n",
       "      <td>789889685</td>\n",
       "      <td>789889685</td>\n",
       "      <td>SPACE INTERNATIONAL</td>\n",
       "      <td>BR</td>\n",
       "      <td>USA</td>\n",
       "      <td>MIAMI</td>\n",
       "      <td>FL</td>\n",
       "      <td>779953582</td>\n",
       "      <td>USA</td>\n",
       "      <td>USA</td>\n",
       "      <td>MIAMI</td>\n",
       "      <td>FL</td>\n",
       "      <td>IDEAL LIFESTYLE CONCIERGE</td>\n",
       "    </tr>\n",
       "    <tr>\n",
       "      <th>3</th>\n",
       "      <td>83318249</td>\n",
       "      <td>SPACE INTERNATIONAL LLC</td>\n",
       "      <td>789889685</td>\n",
       "      <td>789889685</td>\n",
       "      <td>SPACE INTERNATIONAL</td>\n",
       "      <td>BR</td>\n",
       "      <td>USA</td>\n",
       "      <td>MIAMI</td>\n",
       "      <td>FL</td>\n",
       "      <td>807827063</td>\n",
       "      <td>USA</td>\n",
       "      <td>USA</td>\n",
       "      <td>MIAMI</td>\n",
       "      <td>FL</td>\n",
       "      <td>STATETRUST LIFE AND ANNUITIES</td>\n",
       "    </tr>\n",
       "    <tr>\n",
       "      <th>4</th>\n",
       "      <td>83318249</td>\n",
       "      <td>SPACE INTERNATIONAL LLC</td>\n",
       "      <td>789889685</td>\n",
       "      <td>789889685</td>\n",
       "      <td>SPACE INTERNATIONAL</td>\n",
       "      <td>BR</td>\n",
       "      <td>USA</td>\n",
       "      <td>MIAMI</td>\n",
       "      <td>FL</td>\n",
       "      <td>840818350</td>\n",
       "      <td>USA</td>\n",
       "      <td>USA</td>\n",
       "      <td>MIAMI</td>\n",
       "      <td>FL</td>\n",
       "      <td>ASSOCIATION OF CERTIFIED BUSINESS FIDUCIARIES I</td>\n",
       "    </tr>\n",
       "  </tbody>\n",
       "</table>\n",
       "</div>"
      ],
      "text/plain": [
       "   gu_party_id          gu_primary_name duns_number alt_dunsnumber  \\\n",
       "0     83318249  SPACE INTERNATIONAL LLC   789889685      789889685   \n",
       "1     83318249  SPACE INTERNATIONAL LLC   789889685      789889685   \n",
       "2     83318249  SPACE INTERNATIONAL LLC   789889685      789889685   \n",
       "3     83318249  SPACE INTERNATIONAL LLC   789889685      789889685   \n",
       "4     83318249  SPACE INTERNATIONAL LLC   789889685      789889685   \n",
       "\n",
       "           company_name branch_level iso_country_code city_name  \\\n",
       "0  SPACE INTERNATIONAL            BR              USA     MIAMI   \n",
       "1  SPACE INTERNATIONAL            BR              USA     MIAMI   \n",
       "2  SPACE INTERNATIONAL            BR              USA     MIAMI   \n",
       "3  SPACE INTERNATIONAL            BR              USA     MIAMI   \n",
       "4  SPACE INTERNATIONAL            BR              USA     MIAMI   \n",
       "\n",
       "  state_or_province_name dunsnumber country iso_3_code   city state  \\\n",
       "0                     FL  791961001     USA        USA  MIAMI    FL   \n",
       "1                     FL  831202028     USA        USA  MIAMI    FL   \n",
       "2                     FL  779953582     USA        USA  MIAMI    FL   \n",
       "3                     FL  807827063     USA        USA  MIAMI    FL   \n",
       "4                     FL  840818350     USA        USA  MIAMI    FL   \n",
       "\n",
       "                                           company  \n",
       "0                                   CAPSTONE GROUP  \n",
       "1                                 GLOBAL MIND USA   \n",
       "2                       IDEAL LIFESTYLE CONCIERGE   \n",
       "3                   STATETRUST LIFE AND ANNUITIES   \n",
       "4  ASSOCIATION OF CERTIFIED BUSINESS FIDUCIARIES I  "
      ]
     },
     "execution_count": 37,
     "metadata": {},
     "output_type": "execute_result"
    }
   ],
   "source": [
    "df_fourth.head()"
   ]
  },
  {
   "cell_type": "code",
   "execution_count": 38,
   "metadata": {},
   "outputs": [],
   "source": [
    "#del df_fourth['gu_cust_mkt_segment_cd']"
   ]
  },
  {
   "cell_type": "code",
   "execution_count": 39,
   "metadata": {},
   "outputs": [
    {
     "data": {
      "text/plain": [
       "(342633457, 15)"
      ]
     },
     "execution_count": 39,
     "metadata": {},
     "output_type": "execute_result"
    }
   ],
   "source": [
    "df_fourth.shape"
   ]
  },
  {
   "cell_type": "code",
   "execution_count": 40,
   "metadata": {},
   "outputs": [],
   "source": [
    "total= df_fourth.shape[0]\n",
    "batch = 20000000\n",
    "batches = int(np.ceil(total/batch))\n",
    "downrange=0\n",
    "uprange = (batch*batches)+1"
   ]
  },
  {
   "cell_type": "code",
   "execution_count": 41,
   "metadata": {},
   "outputs": [
    {
     "data": {
      "text/plain": [
       "(0, 360000001, 18)"
      ]
     },
     "execution_count": 41,
     "metadata": {},
     "output_type": "execute_result"
    }
   ],
   "source": [
    "downrange,uprange,batches"
   ]
  },
  {
   "cell_type": "code",
   "execution_count": 42,
   "metadata": {},
   "outputs": [],
   "source": [
    "def batch_split_df(step1,step2,batch,Dataframe):\n",
    "    index_values = list(range(step1,step2,batch))\n",
    "    df_list = []\n",
    "    for i in range(0,len(index_values)):\n",
    "        if(i==len(index_values)-1):\n",
    "            break;\n",
    "        else:\n",
    "            print(i)\n",
    "            range_val1 = index_values[i];\n",
    "            range_val2 = index_values[i+1];\n",
    "            start = time.process_time()\n",
    "            df_new = Dataframe.iloc[range_val1:range_val2,:]\n",
    "            df_new.drop_duplicates(subset=['gu_party_id','company_name','company'],inplace=True)\n",
    "            df_new['cmp_cosine'] = df_new.apply(lambda x: get_cosine(x['company'],x['company_name']),axis=1)\n",
    "            df_new['cmp_Fuzzy'] = df_new.apply(lambda x:minEdit(x['company'], x['company_name']), axis=1)\n",
    "            df_new2 = df_new[(df_new['cmp_cosine']>0.5)|(df_new['cmp_Fuzzy']>50)]\n",
    "                      # ((df_new['cmp_cosine']>0.6)&(df_new['cmp_Fuzzy']>60))]\n",
    "            #df_new2 = df_new[(df_new['cmp_cosine']>0.4)&(df_new['cmp_Fuzzy']>40)]\n",
    "            df_list.append(df_new2)\n",
    "            print(df_new.shape)\n",
    "            print(df_new2.shape)\n",
    "            df_new2.to_csv('batch_data_'+str(i)+'.csv',index=False)\n",
    "            #df_new.to_csv('manual_batch_data'+'clean_both'+str(i)+'.csv',index=False)\n",
    "            print(time.process_time() - start)\n",
    "    Final_DF = pd.concat(df_list)\n",
    "    return Final_DF"
   ]
  },
  {
   "cell_type": "code",
   "execution_count": 43,
   "metadata": {},
   "outputs": [
    {
     "data": {
      "text/plain": [
       "(342633457, 15)"
      ]
     },
     "execution_count": 43,
     "metadata": {},
     "output_type": "execute_result"
    }
   ],
   "source": [
    "df_fourth.shape"
   ]
  },
  {
   "cell_type": "code",
   "execution_count": null,
   "metadata": {},
   "outputs": [
    {
     "name": "stdout",
     "output_type": "stream",
     "text": [
      "0\n"
     ]
    },
    {
     "name": "stderr",
     "output_type": "stream",
     "text": [
      "/opt/conda/lib/python3.7/site-packages/ipykernel_launcher.py:13: SettingWithCopyWarning: \n",
      "A value is trying to be set on a copy of a slice from a DataFrame\n",
      "\n",
      "See the caveats in the documentation: https://pandas.pydata.org/pandas-docs/stable/user_guide/indexing.html#returning-a-view-versus-a-copy\n",
      "  del sys.path[0]\n",
      "/opt/conda/lib/python3.7/site-packages/ipykernel_launcher.py:14: SettingWithCopyWarning: \n",
      "A value is trying to be set on a copy of a slice from a DataFrame.\n",
      "Try using .loc[row_indexer,col_indexer] = value instead\n",
      "\n",
      "See the caveats in the documentation: https://pandas.pydata.org/pandas-docs/stable/user_guide/indexing.html#returning-a-view-versus-a-copy\n",
      "  \n",
      "/opt/conda/lib/python3.7/site-packages/ipykernel_launcher.py:15: SettingWithCopyWarning: \n",
      "A value is trying to be set on a copy of a slice from a DataFrame.\n",
      "Try using .loc[row_indexer,col_indexer] = value instead\n",
      "\n",
      "See the caveats in the documentation: https://pandas.pydata.org/pandas-docs/stable/user_guide/indexing.html#returning-a-view-versus-a-copy\n",
      "  from ipykernel import kernelapp as app\n"
     ]
    },
    {
     "name": "stdout",
     "output_type": "stream",
     "text": [
      "(19712959, 17)\n",
      "(72747, 17)\n",
      "2548.6159898819997\n",
      "1\n"
     ]
    },
    {
     "name": "stderr",
     "output_type": "stream",
     "text": [
      "/opt/conda/lib/python3.7/site-packages/ipykernel_launcher.py:13: SettingWithCopyWarning: \n",
      "A value is trying to be set on a copy of a slice from a DataFrame\n",
      "\n",
      "See the caveats in the documentation: https://pandas.pydata.org/pandas-docs/stable/user_guide/indexing.html#returning-a-view-versus-a-copy\n",
      "  del sys.path[0]\n",
      "/opt/conda/lib/python3.7/site-packages/ipykernel_launcher.py:14: SettingWithCopyWarning: \n",
      "A value is trying to be set on a copy of a slice from a DataFrame.\n",
      "Try using .loc[row_indexer,col_indexer] = value instead\n",
      "\n",
      "See the caveats in the documentation: https://pandas.pydata.org/pandas-docs/stable/user_guide/indexing.html#returning-a-view-versus-a-copy\n",
      "  \n",
      "/opt/conda/lib/python3.7/site-packages/ipykernel_launcher.py:15: SettingWithCopyWarning: \n",
      "A value is trying to be set on a copy of a slice from a DataFrame.\n",
      "Try using .loc[row_indexer,col_indexer] = value instead\n",
      "\n",
      "See the caveats in the documentation: https://pandas.pydata.org/pandas-docs/stable/user_guide/indexing.html#returning-a-view-versus-a-copy\n",
      "  from ipykernel import kernelapp as app\n"
     ]
    },
    {
     "name": "stdout",
     "output_type": "stream",
     "text": [
      "(19681118, 17)\n",
      "(67485, 17)\n",
      "2578.7753969789997\n",
      "2\n"
     ]
    },
    {
     "name": "stderr",
     "output_type": "stream",
     "text": [
      "/opt/conda/lib/python3.7/site-packages/ipykernel_launcher.py:13: SettingWithCopyWarning: \n",
      "A value is trying to be set on a copy of a slice from a DataFrame\n",
      "\n",
      "See the caveats in the documentation: https://pandas.pydata.org/pandas-docs/stable/user_guide/indexing.html#returning-a-view-versus-a-copy\n",
      "  del sys.path[0]\n",
      "/opt/conda/lib/python3.7/site-packages/ipykernel_launcher.py:14: SettingWithCopyWarning: \n",
      "A value is trying to be set on a copy of a slice from a DataFrame.\n",
      "Try using .loc[row_indexer,col_indexer] = value instead\n",
      "\n",
      "See the caveats in the documentation: https://pandas.pydata.org/pandas-docs/stable/user_guide/indexing.html#returning-a-view-versus-a-copy\n",
      "  \n",
      "/opt/conda/lib/python3.7/site-packages/ipykernel_launcher.py:15: SettingWithCopyWarning: \n",
      "A value is trying to be set on a copy of a slice from a DataFrame.\n",
      "Try using .loc[row_indexer,col_indexer] = value instead\n",
      "\n",
      "See the caveats in the documentation: https://pandas.pydata.org/pandas-docs/stable/user_guide/indexing.html#returning-a-view-versus-a-copy\n",
      "  from ipykernel import kernelapp as app\n"
     ]
    },
    {
     "name": "stdout",
     "output_type": "stream",
     "text": [
      "(19629335, 17)\n",
      "(67083, 17)\n",
      "2585.9008103080005\n",
      "3\n"
     ]
    },
    {
     "name": "stderr",
     "output_type": "stream",
     "text": [
      "/opt/conda/lib/python3.7/site-packages/ipykernel_launcher.py:13: SettingWithCopyWarning: \n",
      "A value is trying to be set on a copy of a slice from a DataFrame\n",
      "\n",
      "See the caveats in the documentation: https://pandas.pydata.org/pandas-docs/stable/user_guide/indexing.html#returning-a-view-versus-a-copy\n",
      "  del sys.path[0]\n",
      "/opt/conda/lib/python3.7/site-packages/ipykernel_launcher.py:14: SettingWithCopyWarning: \n",
      "A value is trying to be set on a copy of a slice from a DataFrame.\n",
      "Try using .loc[row_indexer,col_indexer] = value instead\n",
      "\n",
      "See the caveats in the documentation: https://pandas.pydata.org/pandas-docs/stable/user_guide/indexing.html#returning-a-view-versus-a-copy\n",
      "  \n",
      "/opt/conda/lib/python3.7/site-packages/ipykernel_launcher.py:15: SettingWithCopyWarning: \n",
      "A value is trying to be set on a copy of a slice from a DataFrame.\n",
      "Try using .loc[row_indexer,col_indexer] = value instead\n",
      "\n",
      "See the caveats in the documentation: https://pandas.pydata.org/pandas-docs/stable/user_guide/indexing.html#returning-a-view-versus-a-copy\n",
      "  from ipykernel import kernelapp as app\n"
     ]
    },
    {
     "name": "stdout",
     "output_type": "stream",
     "text": [
      "(19704254, 17)\n",
      "(69765, 17)\n",
      "2575.437853493\n",
      "4\n"
     ]
    },
    {
     "name": "stderr",
     "output_type": "stream",
     "text": [
      "/opt/conda/lib/python3.7/site-packages/ipykernel_launcher.py:13: SettingWithCopyWarning: \n",
      "A value is trying to be set on a copy of a slice from a DataFrame\n",
      "\n",
      "See the caveats in the documentation: https://pandas.pydata.org/pandas-docs/stable/user_guide/indexing.html#returning-a-view-versus-a-copy\n",
      "  del sys.path[0]\n",
      "/opt/conda/lib/python3.7/site-packages/ipykernel_launcher.py:14: SettingWithCopyWarning: \n",
      "A value is trying to be set on a copy of a slice from a DataFrame.\n",
      "Try using .loc[row_indexer,col_indexer] = value instead\n",
      "\n",
      "See the caveats in the documentation: https://pandas.pydata.org/pandas-docs/stable/user_guide/indexing.html#returning-a-view-versus-a-copy\n",
      "  \n",
      "/opt/conda/lib/python3.7/site-packages/ipykernel_launcher.py:15: SettingWithCopyWarning: \n",
      "A value is trying to be set on a copy of a slice from a DataFrame.\n",
      "Try using .loc[row_indexer,col_indexer] = value instead\n",
      "\n",
      "See the caveats in the documentation: https://pandas.pydata.org/pandas-docs/stable/user_guide/indexing.html#returning-a-view-versus-a-copy\n",
      "  from ipykernel import kernelapp as app\n"
     ]
    },
    {
     "name": "stdout",
     "output_type": "stream",
     "text": [
      "(19695330, 17)\n",
      "(73364, 17)\n",
      "2646.526694094\n",
      "5\n"
     ]
    },
    {
     "name": "stderr",
     "output_type": "stream",
     "text": [
      "/opt/conda/lib/python3.7/site-packages/ipykernel_launcher.py:13: SettingWithCopyWarning: \n",
      "A value is trying to be set on a copy of a slice from a DataFrame\n",
      "\n",
      "See the caveats in the documentation: https://pandas.pydata.org/pandas-docs/stable/user_guide/indexing.html#returning-a-view-versus-a-copy\n",
      "  del sys.path[0]\n",
      "/opt/conda/lib/python3.7/site-packages/ipykernel_launcher.py:14: SettingWithCopyWarning: \n",
      "A value is trying to be set on a copy of a slice from a DataFrame.\n",
      "Try using .loc[row_indexer,col_indexer] = value instead\n",
      "\n",
      "See the caveats in the documentation: https://pandas.pydata.org/pandas-docs/stable/user_guide/indexing.html#returning-a-view-versus-a-copy\n",
      "  \n",
      "/opt/conda/lib/python3.7/site-packages/ipykernel_launcher.py:15: SettingWithCopyWarning: \n",
      "A value is trying to be set on a copy of a slice from a DataFrame.\n",
      "Try using .loc[row_indexer,col_indexer] = value instead\n",
      "\n",
      "See the caveats in the documentation: https://pandas.pydata.org/pandas-docs/stable/user_guide/indexing.html#returning-a-view-versus-a-copy\n",
      "  from ipykernel import kernelapp as app\n"
     ]
    },
    {
     "name": "stdout",
     "output_type": "stream",
     "text": [
      "(19663751, 17)\n",
      "(77769, 17)\n",
      "2674.927753600001\n",
      "6\n"
     ]
    },
    {
     "name": "stderr",
     "output_type": "stream",
     "text": [
      "/opt/conda/lib/python3.7/site-packages/ipykernel_launcher.py:13: SettingWithCopyWarning: \n",
      "A value is trying to be set on a copy of a slice from a DataFrame\n",
      "\n",
      "See the caveats in the documentation: https://pandas.pydata.org/pandas-docs/stable/user_guide/indexing.html#returning-a-view-versus-a-copy\n",
      "  del sys.path[0]\n",
      "/opt/conda/lib/python3.7/site-packages/ipykernel_launcher.py:14: SettingWithCopyWarning: \n",
      "A value is trying to be set on a copy of a slice from a DataFrame.\n",
      "Try using .loc[row_indexer,col_indexer] = value instead\n",
      "\n",
      "See the caveats in the documentation: https://pandas.pydata.org/pandas-docs/stable/user_guide/indexing.html#returning-a-view-versus-a-copy\n",
      "  \n",
      "/opt/conda/lib/python3.7/site-packages/ipykernel_launcher.py:15: SettingWithCopyWarning: \n",
      "A value is trying to be set on a copy of a slice from a DataFrame.\n",
      "Try using .loc[row_indexer,col_indexer] = value instead\n",
      "\n",
      "See the caveats in the documentation: https://pandas.pydata.org/pandas-docs/stable/user_guide/indexing.html#returning-a-view-versus-a-copy\n",
      "  from ipykernel import kernelapp as app\n"
     ]
    },
    {
     "name": "stdout",
     "output_type": "stream",
     "text": [
      "(19676263, 17)\n",
      "(73602, 17)\n",
      "2659.5721704519983\n",
      "7\n"
     ]
    },
    {
     "name": "stderr",
     "output_type": "stream",
     "text": [
      "/opt/conda/lib/python3.7/site-packages/ipykernel_launcher.py:13: SettingWithCopyWarning: \n",
      "A value is trying to be set on a copy of a slice from a DataFrame\n",
      "\n",
      "See the caveats in the documentation: https://pandas.pydata.org/pandas-docs/stable/user_guide/indexing.html#returning-a-view-versus-a-copy\n",
      "  del sys.path[0]\n",
      "/opt/conda/lib/python3.7/site-packages/ipykernel_launcher.py:14: SettingWithCopyWarning: \n",
      "A value is trying to be set on a copy of a slice from a DataFrame.\n",
      "Try using .loc[row_indexer,col_indexer] = value instead\n",
      "\n",
      "See the caveats in the documentation: https://pandas.pydata.org/pandas-docs/stable/user_guide/indexing.html#returning-a-view-versus-a-copy\n",
      "  \n",
      "/opt/conda/lib/python3.7/site-packages/ipykernel_launcher.py:15: SettingWithCopyWarning: \n",
      "A value is trying to be set on a copy of a slice from a DataFrame.\n",
      "Try using .loc[row_indexer,col_indexer] = value instead\n",
      "\n",
      "See the caveats in the documentation: https://pandas.pydata.org/pandas-docs/stable/user_guide/indexing.html#returning-a-view-versus-a-copy\n",
      "  from ipykernel import kernelapp as app\n"
     ]
    },
    {
     "name": "stdout",
     "output_type": "stream",
     "text": [
      "(19729043, 17)\n",
      "(65319, 17)\n",
      "2672.2869530109965\n",
      "8\n"
     ]
    },
    {
     "name": "stderr",
     "output_type": "stream",
     "text": [
      "/opt/conda/lib/python3.7/site-packages/ipykernel_launcher.py:13: SettingWithCopyWarning: \n",
      "A value is trying to be set on a copy of a slice from a DataFrame\n",
      "\n",
      "See the caveats in the documentation: https://pandas.pydata.org/pandas-docs/stable/user_guide/indexing.html#returning-a-view-versus-a-copy\n",
      "  del sys.path[0]\n",
      "/opt/conda/lib/python3.7/site-packages/ipykernel_launcher.py:14: SettingWithCopyWarning: \n",
      "A value is trying to be set on a copy of a slice from a DataFrame.\n",
      "Try using .loc[row_indexer,col_indexer] = value instead\n",
      "\n",
      "See the caveats in the documentation: https://pandas.pydata.org/pandas-docs/stable/user_guide/indexing.html#returning-a-view-versus-a-copy\n",
      "  \n"
     ]
    }
   ],
   "source": [
    "start = time.process_time()\n",
    "df_fourth_final = batch_split_df(downrange,uprange,batch,df_fourth)\n",
    "print(time.process_time() - start)"
   ]
  },
  {
   "cell_type": "code",
   "execution_count": null,
   "metadata": {},
   "outputs": [],
   "source": [
    "def FourthIteration(df_fourth_final):\n",
    "    df_fourth_final['space'] = (df_fourth_final.company.apply(lambda x:len(x)))  -(df_fourth_final.company.apply(lambda x:x.count(' ')))\n",
    "    df_fourth_final = df_fourth_final[df_fourth_final['space']>2]\n",
    "    del df_fourth_final['space']\n",
    "    df_fourth_final['company_avg']= ((df_fourth_final['cmp_cosine']*100) + df_fourth_final['cmp_Fuzzy'])/2\n",
    "    df_fourth_final = df_fourth_final[df_fourth_final.groupby(['gu_party_id'])['company_avg'].transform(max) == df_fourth_final['company_avg']]\n",
    "    df_fourth_final.drop_duplicates(subset=['gu_party_id','company_avg'],inplace=True)\n",
    "    del df_fourth_final['company_avg']\n",
    "    removing_ids = df_fourth_final[(df_fourth_final['cmp_cosine']==0)&(df_fourth_final['cmp_Fuzzy']<85)]['gu_party_id'].tolist()\n",
    "    df_fourth_final = df_fourth_final[~df_fourth_final.gu_party_id.isin(removing_ids)]\n",
    "    df_fourth_final.to_csv('US_Commercial_Fourth_Iteration_'+version+'.csv')\n",
    "    return df_fourth_final"
   ]
  },
  {
   "cell_type": "code",
   "execution_count": null,
   "metadata": {},
   "outputs": [],
   "source": [
    "df_fourth_final_1= FourthIteration(df_fourth_final)"
   ]
  },
  {
   "cell_type": "code",
   "execution_count": null,
   "metadata": {},
   "outputs": [],
   "source": [
    "df_fourth_final_1.shape"
   ]
  },
  {
   "cell_type": "code",
   "execution_count": null,
   "metadata": {},
   "outputs": [],
   "source": [
    "df_fourth_final_1.to_csv('US_Commercial_Fourth_Iteration_300-400k.csv',index=False)"
   ]
  },
  {
   "cell_type": "code",
   "execution_count": null,
   "metadata": {},
   "outputs": [],
   "source": [
    "#del df_fourth_final_1['Unnamed: 0']"
   ]
  },
  {
   "cell_type": "code",
   "execution_count": null,
   "metadata": {},
   "outputs": [],
   "source": [
    "#df_fourth_final_1.head()"
   ]
  },
  {
   "cell_type": "code",
   "execution_count": null,
   "metadata": {},
   "outputs": [],
   "source": [
    "df_fourth_final_1.shape"
   ]
  },
  {
   "cell_type": "code",
   "execution_count": null,
   "metadata": {},
   "outputs": [],
   "source": [
    "#df_fourth_final_1 = df_fourth_final_1[(df_fourth_final_1['cmp_cosine']>0.7)|(df_fourth_final_1['cmp_Fuzzy']>70)|((df_fourth_final_1['cmp_cosine']>0.6)&(df_fourth_final_1['cmp_Fuzzy']>60))]"
   ]
  },
  {
   "cell_type": "code",
   "execution_count": null,
   "metadata": {},
   "outputs": [],
   "source": [
    "#df_fourth_final_1.to_csv('US_Commercial_Fourth_Iteration_v1.csv',index=False)"
   ]
  },
  {
   "cell_type": "markdown",
   "metadata": {},
   "source": [
    "Exporting OutPut Files to SnowFlake"
   ]
  },
  {
   "cell_type": "code",
   "execution_count": null,
   "metadata": {},
   "outputs": [],
   "source": [
    "df_first.shape,df_second.shape,df_third.shape,df_fourth_final_1.shape"
   ]
  },
  {
   "cell_type": "code",
   "execution_count": null,
   "metadata": {},
   "outputs": [],
   "source": [
    "export_table_names = ['US_Comm_1iter_match','US_Comm_2iter_match',\n",
    "                      'US_Comm_3iter_match','US_Comm_4iter_match']\n",
    "#"
   ]
  },
  {
   "cell_type": "code",
   "execution_count": null,
   "metadata": {},
   "outputs": [],
   "source": [
    "#If already exist drop it\n",
    "for i in export_table_names:\n",
    "    print(sf_helper.execute('drop table if exists edw_dna_db.wi.'+i))"
   ]
  },
  {
   "cell_type": "code",
   "execution_count": null,
   "metadata": {},
   "outputs": [],
   "source": [
    "df_first.to_sql(name='US_Comm_1iter_match', con=sf_engine, schema='EDW_DNA_DB.WI',index=False)\n",
    "df_second.to_sql(name='US_Comm_2iter_match', con=sf_engine, schema='EDW_DNA_DB.WI',index=False)\n",
    "df_third.to_sql(name='US_Comm_3iter_match', con=sf_engine, schema='EDW_DNA_DB.WI',index=False)\n",
    "df_fourth_final_1.to_sql(name='US_Comm_4iter_match', con=sf_engine, schema='EDW_DNA_DB.WI',index=False)"
   ]
  },
  {
   "cell_type": "markdown",
   "metadata": {},
   "source": [
    "Post Mapping"
   ]
  },
  {
   "cell_type": "code",
   "execution_count": null,
   "metadata": {},
   "outputs": [],
   "source": [
    "# file1 = open(\"ent_sqlcode2.txt\")\n",
    "# line1 = file1.read()\n",
    "# file1.close()"
   ]
  },
  {
   "cell_type": "code",
   "execution_count": null,
   "metadata": {},
   "outputs": [],
   "source": [
    "# def PostSql(queries):\n",
    "#     start = time.process_time()\n",
    "#     for i in line1.strip().split(';'):\n",
    "#         print(sf_helper.execute(i))\n",
    "#         print(time.process_time()-start)\n",
    "        \n",
    "# PostSql(line1)\n",
    "    "
   ]
  },
  {
   "cell_type": "code",
   "execution_count": null,
   "metadata": {},
   "outputs": [],
   "source": []
  }
 ],
 "metadata": {
  "environment": {
   "name": "tf2-2-3-gpu.2-3.m56",
   "type": "gcloud",
   "uri": "gcr.io/deeplearning-platform-release/tf2-2-3-gpu.2-3:m56"
  },
  "kernelspec": {
   "display_name": "Python 3",
   "language": "python",
   "name": "python3"
  },
  "language_info": {
   "codemirror_mode": {
    "name": "ipython",
    "version": 3
   },
   "file_extension": ".py",
   "mimetype": "text/x-python",
   "name": "python",
   "nbconvert_exporter": "python",
   "pygments_lexer": "ipython3",
   "version": "3.7.4"
  }
 },
 "nbformat": 4,
 "nbformat_minor": 4
}
